{
 "cells": [
  {
   "cell_type": "code",
   "execution_count": 1,
   "id": "ce72ad77",
   "metadata": {
    "tags": []
   },
   "outputs": [],
   "source": [
    "%load_ext autoreload\n",
    "%autoreload 2\n",
    "from APREdatabase import *\n",
    "rtr = '../../'\n",
    "ProtocolsDict = load_protocols(rel_to_root=rtr)\n",
    "\n",
    "import warnings\n",
    "warnings.simplefilter(action='ignore', category=FutureWarning)"
   ]
  },
  {
   "cell_type": "code",
   "execution_count": 11,
   "id": "dc89bf40",
   "metadata": {},
   "outputs": [
    {
     "name": "stdout",
     "output_type": "stream",
     "text": [
      "ARP\n",
      "Num_formats = 4\n",
      "Getting capture csvs for ARP\n",
      "../../src/APREdatabase/Protocols/ARP/pcap1/arp_1024.csv\n",
      "../../src/APREdatabase/Protocols/ARP/brute_shark/ARP_brute_shark.csv\n",
      "../../src/APREdatabase/Protocols/ARP/CIC-DDoS2019/arp.csv\n",
      "../../src/APREdatabase/Protocols/ARP/smia/arp_smia.csv\n",
      "num pkts = 17213\n",
      "DHCP\n",
      "Num_formats = 264\n",
      "Getting capture csvs for DHCP\n",
      "../../src/APREdatabase/Protocols/DHCP/CIC-DDoS2019/dhcp.csv\n",
      "../../src/APREdatabase/Protocols/DHCP/smia/smia_dhcp.csv\n",
      "../../src/APREdatabase/Protocols/DHCP/netplier/dhcp_100.csv\n",
      "num pkts = 383\n",
      "DNP3\n",
      "Num_formats = 16\n",
      "Getting capture csvs for DNP3\n",
      "../../src/APREdatabase/Protocols/DNP3/ICS_GitHub/ics_dnp3.csv\n",
      "../../src/APREdatabase/Protocols/DNP3/netplier/dnp3_100.csv\n",
      "num pkts = 180\n",
      "DNS\n",
      "Num_formats = 1662\n",
      "Getting capture csvs for DNS\n",
      "../../src/APREdatabase/Protocols/DNS/4SICS/udp_dns.csv\n",
      "../../src/APREdatabase/Protocols/DNS/CIC-DDoS2019/dns.csv\n",
      "../../src/APREdatabase/Protocols/DNS/smia/SMIA_2011-10-14_07_DNS_5411.csv\n",
      "num pkts = 36744\n",
      "EAPOL\n",
      "Num_formats = 24\n",
      "Getting capture csvs for EAPOL\n",
      "../../src/APREdatabase/Protocols/EAPOL/ws_sample/eapol-mka.csv\n",
      "num pkts = 68\n",
      "ETHERNET\n",
      "Num_formats = 12\n",
      "Getting capture csvs for ETHERNET\n",
      "../../src/APREdatabase/Protocols/ETHERNET/CIC-DDoS2019/ethernet.csv\n",
      "num pkts = 16796\n",
      "FTPv6\n",
      "Num_formats = 36\n",
      "Getting capture csvs for FTPv6\n",
      "../../src/APREdatabase/Protocols/FTPv6/ws_sample/ftpv6_12.csv\n",
      "num pkts = 12\n",
      "ICMP\n",
      "Num_formats = 6\n",
      "Getting capture csvs for ICMP\n",
      "../../src/APREdatabase/Protocols/ICMP/pcap1/icmp.csv\n",
      "../../src/APREdatabase/Protocols/ICMP/smia/icmp_smia.csv\n",
      "num pkts = 5851\n",
      "ModBus\n",
      "Num_formats = 79\n",
      "Getting capture csvs for ModBus\n",
      "../../src/APREdatabase/Protocols/ModBus/ics-github/modbus_ics.csv\n",
      "../../src/APREdatabase/Protocols/ModBus/netplier/modbus_100.csv\n",
      "num pkts = 202\n",
      "ModBusTCP\n",
      "Num_formats = 9\n",
      "Getting capture csvs for ModBusTCP\n",
      "../../src/APREdatabase/Protocols/ModBusTCP/ics-github/modbus_ics.csv\n",
      "../../src/APREdatabase/Protocols/ModBusTCP/netplier/modbus_100.csv\n",
      "num pkts = 202\n",
      "MQTT\n",
      "Num_formats = 7\n",
      "Getting capture csvs for MQTT\n",
      "../../src/APREdatabase/Protocols/MQTT/pcap1/mqtt_packets_tcpdump.csv\n",
      "num pkts = 19\n",
      "NBDGM\n",
      "Num_formats = 1\n",
      "Getting capture csvs for NBDGM\n",
      "../../src/APREdatabase/Protocols/NBDGM/pcap1/nbdgm.csv\n",
      "num pkts = 6\n",
      "NBNS\n",
      "Num_formats = 21\n",
      "Getting capture csvs for NBNS\n",
      "../../src/APREdatabase/Protocols/NBNS/pcap1/nbns.csv\n",
      "../../src/APREdatabase/Protocols/NBNS/CIC-DDoS2019/nbns.csv\n",
      "../../src/APREdatabase/Protocols/NBNS/smia/smia_nbns.csv\n",
      "num pkts = 2749\n",
      "NTPv4\n",
      "Num_formats = 2\n",
      "Getting capture csvs for NTPv4\n",
      "../../src/APREdatabase/Protocols/NTPv4/smia/SMIA_2011_NTP_1218.csv\n",
      "../../src/APREdatabase/Protocols/NTPv4/netplier/ntp_100.csv\n",
      "num pkts = 1318\n",
      "PMU\n",
      "Num_formats = 49\n",
      "Getting capture csvs for PMU\n",
      "../../src/APREdatabase/Protocols/PMU/ws_udp_pmu/pmu_udp.csv\n",
      "../../src/APREdatabase/Protocols/PMU/ws_tcp_pmu/tcp_pmu.csv\n",
      "../../src/APREdatabase/Protocols/PMU/two_pmu/two_pmu.csv\n",
      "../../src/APREdatabase/Protocols/PMU/four_pmu/4_pmu.csv\n",
      "num pkts = 3696\n",
      "SMB\n",
      "Num_formats = 99\n",
      "Getting capture csvs for SMB\n",
      "../../src/APREdatabase/Protocols/SMB/smia/smb_smia.csv\n",
      "num pkts = 416\n",
      "SMB2\n",
      "Num_formats = 41\n",
      "Getting capture csvs for SMB2\n",
      "../../src/APREdatabase/Protocols/SMB2/netplier/smb2_100.csv\n",
      "num pkts = 100\n",
      "S7Comm\n",
      "Num_formats = 96\n",
      "Getting capture csvs for S7Comm\n",
      "../../src/APREdatabase/Protocols/S7Comm/4SICS/4sics_s7comm.csv\n",
      "../../src/APREdatabase/Protocols/S7Comm/ws_sample/s7comm.csv\n",
      "num pkts = 47488\n",
      "USB\n",
      "Num_formats = 6\n",
      "Getting capture csvs for USB\n",
      "../../src/APREdatabase/Protocols/USB/pcap1/data.csv\n",
      "num pkts = 5544\n",
      "UDP\n",
      "Num_formats = 1\n",
      "Getting capture csvs for UDP\n",
      "../../src/APREdatabase/Protocols/UDP/4SICS/udp_dns.csv\n",
      "../../src/APREdatabase/Protocols/UDP/smia/udp_smia.csv\n",
      "num pkts = 82192\n",
      "TCP\n",
      "Num_formats = 18\n",
      "Getting capture csvs for TCP\n",
      "../../src/APREdatabase/Protocols/TCP/smia/smia_tcp.csv\n",
      "num pkts = 25431\n",
      "IP\n",
      "Num_formats = 1\n",
      "Getting capture csvs for IP\n",
      "../../src/APREdatabase/Protocols/IP/smia/ip_smia.csv\n",
      "num pkts = 51089\n",
      "LIFX\n",
      "Num_formats = 35\n",
      "Getting capture csvs for LIFX\n",
      "../../src/APREdatabase/Protocols/LIFX/one_day/one_day.csv\n",
      "num pkts = 979\n",
      "USBMouse\n",
      "Num_formats = 1\n",
      "Getting capture csvs for USBMouse\n",
      "../../src/APREdatabase/Protocols/USBMouse/usb_data/usb_data.csv\n",
      "num pkts = 2772\n"
     ]
    }
   ],
   "source": [
    "for p in ProtocolsDict:\n",
    "    print(p)\n",
    "    FormatsDF = load_formats(ProtocolsDict, p, rel_to_root=rtr)\n",
    "    print(f'Num_formats = {FormatsDF.shape[0]}')\n",
    "    c = 0\n",
    "    for capture_df in get_capture_csvs(p, rel_to_root=rtr):\n",
    "        X, y_lengths, y_syntaxes, y_semantics = parse_df_to_X_y(capture_df, FormatsDF)\n",
    "        c += len(X)\n",
    "    print(f'num pkts = {c}')\n",
    "    #X[0], y_lengths[0], y_syntaxes[0], y_semantics[0]"
   ]
  },
  {
   "cell_type": "markdown",
   "id": "1ef9e6c9",
   "metadata": {},
   "source": [
    "Read CSVs"
   ]
  },
  {
   "cell_type": "code",
   "execution_count": 40,
   "id": "6d7a156a",
   "metadata": {},
   "outputs": [
    {
     "ename": "OptionError",
     "evalue": "\"No such keys(s): 'display.max_rowheight'\"",
     "output_type": "error",
     "traceback": [
      "\u001b[0;31m---------------------------------------------------------------------------\u001b[0m",
      "\u001b[0;31mOptionError\u001b[0m                               Traceback (most recent call last)",
      "Cell \u001b[0;32mIn[40], line 2\u001b[0m\n\u001b[1;32m      1\u001b[0m pd\u001b[38;5;241m.\u001b[39mset_option(\u001b[38;5;124m'\u001b[39m\u001b[38;5;124mdisplay.max_colwidth\u001b[39m\u001b[38;5;124m'\u001b[39m, \u001b[38;5;241m60\u001b[39m)\n\u001b[0;32m----> 2\u001b[0m \u001b[43mpd\u001b[49m\u001b[38;5;241;43m.\u001b[39;49m\u001b[43mset_option\u001b[49m\u001b[43m(\u001b[49m\u001b[38;5;124;43m'\u001b[39;49m\u001b[38;5;124;43mdisplay.max_rowheight\u001b[39;49m\u001b[38;5;124;43m'\u001b[39;49m\u001b[43m,\u001b[49m\u001b[43m \u001b[49m\u001b[38;5;241;43m60\u001b[39;49m\u001b[43m)\u001b[49m\n\u001b[1;32m      3\u001b[0m pd\u001b[38;5;241m.\u001b[39mset_option(\u001b[38;5;124m'\u001b[39m\u001b[38;5;124mdisplay.float_format\u001b[39m\u001b[38;5;124m'\u001b[39m, \u001b[38;5;28;01mlambda\u001b[39;00m x: \u001b[38;5;124m'\u001b[39m\u001b[38;5;132;01m%.9f\u001b[39;00m\u001b[38;5;124m'\u001b[39m \u001b[38;5;241m%\u001b[39m x)\n\u001b[1;32m      4\u001b[0m pd\u001b[38;5;241m.\u001b[39mset_option(\u001b[38;5;124m'\u001b[39m\u001b[38;5;124mdisplay.max_columns\u001b[39m\u001b[38;5;124m'\u001b[39m, \u001b[38;5;241m500\u001b[39m)\n",
      "File \u001b[0;32m~/.conda/envs/devenv/lib/python3.8/site-packages/pandas/_config/config.py:243\u001b[0m, in \u001b[0;36mCallableDynamicDoc.__call__\u001b[0;34m(self, *args, **kwds)\u001b[0m\n\u001b[1;32m    242\u001b[0m \u001b[38;5;28;01mdef\u001b[39;00m \u001b[38;5;21m__call__\u001b[39m(\u001b[38;5;28mself\u001b[39m, \u001b[38;5;241m*\u001b[39margs, \u001b[38;5;241m*\u001b[39m\u001b[38;5;241m*\u001b[39mkwds):\n\u001b[0;32m--> 243\u001b[0m     \u001b[38;5;28;01mreturn\u001b[39;00m \u001b[38;5;28;43mself\u001b[39;49m\u001b[38;5;241;43m.\u001b[39;49m\u001b[38;5;18;43m__func__\u001b[39;49m\u001b[43m(\u001b[49m\u001b[38;5;241;43m*\u001b[39;49m\u001b[43margs\u001b[49m\u001b[43m,\u001b[49m\u001b[43m \u001b[49m\u001b[38;5;241;43m*\u001b[39;49m\u001b[38;5;241;43m*\u001b[39;49m\u001b[43mkwds\u001b[49m\u001b[43m)\u001b[49m\n",
      "File \u001b[0;32m~/.conda/envs/devenv/lib/python3.8/site-packages/pandas/_config/config.py:136\u001b[0m, in \u001b[0;36m_set_option\u001b[0;34m(*args, **kwargs)\u001b[0m\n\u001b[1;32m    133\u001b[0m     \u001b[38;5;28;01mraise\u001b[39;00m \u001b[38;5;167;01mTypeError\u001b[39;00m(\u001b[38;5;124mf\u001b[39m\u001b[38;5;124m'\u001b[39m\u001b[38;5;124m_set_option() got an unexpected keyword argument \u001b[39m\u001b[38;5;124m\"\u001b[39m\u001b[38;5;132;01m{\u001b[39;00mkwarg\u001b[38;5;132;01m}\u001b[39;00m\u001b[38;5;124m\"\u001b[39m\u001b[38;5;124m'\u001b[39m)\n\u001b[1;32m    135\u001b[0m \u001b[38;5;28;01mfor\u001b[39;00m k, v \u001b[38;5;129;01min\u001b[39;00m \u001b[38;5;28mzip\u001b[39m(args[::\u001b[38;5;241m2\u001b[39m], args[\u001b[38;5;241m1\u001b[39m::\u001b[38;5;241m2\u001b[39m]):\n\u001b[0;32m--> 136\u001b[0m     key \u001b[38;5;241m=\u001b[39m \u001b[43m_get_single_key\u001b[49m\u001b[43m(\u001b[49m\u001b[43mk\u001b[49m\u001b[43m,\u001b[49m\u001b[43m \u001b[49m\u001b[43msilent\u001b[49m\u001b[43m)\u001b[49m\n\u001b[1;32m    138\u001b[0m     o \u001b[38;5;241m=\u001b[39m _get_registered_option(key)\n\u001b[1;32m    139\u001b[0m     \u001b[38;5;28;01mif\u001b[39;00m o \u001b[38;5;129;01mand\u001b[39;00m o\u001b[38;5;241m.\u001b[39mvalidator:\n",
      "File \u001b[0;32m~/.conda/envs/devenv/lib/python3.8/site-packages/pandas/_config/config.py:101\u001b[0m, in \u001b[0;36m_get_single_key\u001b[0;34m(pat, silent)\u001b[0m\n\u001b[1;32m     99\u001b[0m     \u001b[38;5;28;01mif\u001b[39;00m \u001b[38;5;129;01mnot\u001b[39;00m silent:\n\u001b[1;32m    100\u001b[0m         _warn_if_deprecated(pat)\n\u001b[0;32m--> 101\u001b[0m     \u001b[38;5;28;01mraise\u001b[39;00m OptionError(\u001b[38;5;124mf\u001b[39m\u001b[38;5;124m\"\u001b[39m\u001b[38;5;124mNo such keys(s): \u001b[39m\u001b[38;5;132;01m{\u001b[39;00m\u001b[38;5;28mrepr\u001b[39m(pat)\u001b[38;5;132;01m}\u001b[39;00m\u001b[38;5;124m\"\u001b[39m)\n\u001b[1;32m    102\u001b[0m \u001b[38;5;28;01mif\u001b[39;00m \u001b[38;5;28mlen\u001b[39m(keys) \u001b[38;5;241m>\u001b[39m \u001b[38;5;241m1\u001b[39m:\n\u001b[1;32m    103\u001b[0m     \u001b[38;5;28;01mraise\u001b[39;00m OptionError(\u001b[38;5;124m\"\u001b[39m\u001b[38;5;124mPattern matched multiple keys\u001b[39m\u001b[38;5;124m\"\u001b[39m)\n",
      "\u001b[0;31mOptionError\u001b[0m: \"No such keys(s): 'display.max_rowheight'\""
     ]
    }
   ],
   "source": [
    "pd.set_option('display.max_colwidth', 60)\n",
    "pd.set_option('display.max_rowheight', 60)\n",
    "pd.set_option('display.float_format', lambda x: '%.9f' % x)\n",
    "pd.set_option('display.max_columns', 500)"
   ]
  },
  {
   "cell_type": "code",
   "execution_count": 32,
   "id": "df41d2c0",
   "metadata": {},
   "outputs": [
    {
     "data": {
      "text/html": [
       "<div>\n",
       "<style scoped>\n",
       "    .dataframe tbody tr th:only-of-type {\n",
       "        vertical-align: middle;\n",
       "    }\n",
       "\n",
       "    .dataframe tbody tr th {\n",
       "        vertical-align: top;\n",
       "    }\n",
       "\n",
       "    .dataframe thead th {\n",
       "        text-align: right;\n",
       "    }\n",
       "</style>\n",
       "<table border=\"1\" class=\"dataframe\">\n",
       "  <thead>\n",
       "    <tr style=\"text-align: right;\">\n",
       "      <th></th>\n",
       "      <th>Timestamp</th>\n",
       "      <th>Format ID</th>\n",
       "      <th>Raw Bytes</th>\n",
       "    </tr>\n",
       "  </thead>\n",
       "  <tbody>\n",
       "    <tr>\n",
       "      <th>0</th>\n",
       "      <td>1318569695.851855040</td>\n",
       "      <td>6544811979207269488</td>\n",
       "      <td>ace201000001000000000000047a696c7302657800001c0001</td>\n",
       "    </tr>\n",
       "    <tr>\n",
       "      <th>1</th>\n",
       "      <td>1318569695.852507114</td>\n",
       "      <td>6256418855881129599</td>\n",
       "      <td>ace285800001000000010000047a696c7302657800001c0001c00c00...</td>\n",
       "    </tr>\n",
       "    <tr>\n",
       "      <th>2</th>\n",
       "      <td>1318569695.853152037</td>\n",
       "      <td>6544811979207269488</td>\n",
       "      <td>ddf401000001000000000000047a696c730265780000010001</td>\n",
       "    </tr>\n",
       "    <tr>\n",
       "      <th>3</th>\n",
       "      <td>1318569695.853701115</td>\n",
       "      <td>6256418855881129599</td>\n",
       "      <td>ddf485800001000000010000047a696c730265780000010001c00c00...</td>\n",
       "    </tr>\n",
       "    <tr>\n",
       "      <th>4</th>\n",
       "      <td>1318569695.854002953</td>\n",
       "      <td>6544811979207269488</td>\n",
       "      <td>20a001000001000000000000047a696c7302657800000f0001</td>\n",
       "    </tr>\n",
       "  </tbody>\n",
       "</table>\n",
       "</div>"
      ],
      "text/plain": [
       "             Timestamp            Format ID  \\\n",
       "0 1318569695.851855040  6544811979207269488   \n",
       "1 1318569695.852507114  6256418855881129599   \n",
       "2 1318569695.853152037  6544811979207269488   \n",
       "3 1318569695.853701115  6256418855881129599   \n",
       "4 1318569695.854002953  6544811979207269488   \n",
       "\n",
       "                                                     Raw Bytes  \n",
       "0           ace201000001000000000000047a696c7302657800001c0001  \n",
       "1  ace285800001000000010000047a696c7302657800001c0001c00c00...  \n",
       "2           ddf401000001000000000000047a696c730265780000010001  \n",
       "3  ddf485800001000000010000047a696c730265780000010001c00c00...  \n",
       "4           20a001000001000000000000047a696c7302657800000f0001  "
      ]
     },
     "execution_count": 32,
     "metadata": {},
     "output_type": "execute_result"
    }
   ],
   "source": [
    "import pandas as pd\n",
    "pd.read_csv('Protocols/DNS/smia/SMIA_2011-10-14_07_DNS_5411.csv', names=['Timestamp', 'Format ID', 'Raw Bytes']).head()"
   ]
  },
  {
   "cell_type": "code",
   "execution_count": 38,
   "id": "14f916a2",
   "metadata": {},
   "outputs": [
    {
     "data": {
      "text/html": [
       "<div>\n",
       "<style scoped>\n",
       "    .dataframe tbody tr th:only-of-type {\n",
       "        vertical-align: middle;\n",
       "    }\n",
       "\n",
       "    .dataframe tbody tr th {\n",
       "        vertical-align: top;\n",
       "    }\n",
       "\n",
       "    .dataframe thead th {\n",
       "        text-align: right;\n",
       "    }\n",
       "</style>\n",
       "<table border=\"1\" class=\"dataframe\">\n",
       "  <thead>\n",
       "    <tr style=\"text-align: right;\">\n",
       "      <th></th>\n",
       "      <th>Format ID</th>\n",
       "      <th>Bit Lengths</th>\n",
       "      <th>Syntaxes</th>\n",
       "      <th>Semantics</th>\n",
       "    </tr>\n",
       "  </thead>\n",
       "  <tbody>\n",
       "    <tr>\n",
       "      <th>1113</th>\n",
       "      <td>6544811979207269488</td>\n",
       "      <td>[16, 16, 16, 16, 16, 16, 72, 16, 16]</td>\n",
       "      <td>['UINT16', 'UINT16', 'UINT16', 'UINT16', 'UINT16', 'UINT...</td>\n",
       "      <td>['Transaction_ID', 'Flags', 'Questions', 'Answer_RRs', '...</td>\n",
       "    </tr>\n",
       "    <tr>\n",
       "      <th>1235</th>\n",
       "      <td>6256418855881129599</td>\n",
       "      <td>[16, 16, 16, 16, 16, 16, 72, 16, 16, 16, 16, 16, 32, 16,...</td>\n",
       "      <td>['UINT16', 'UINT16', 'UINT16', 'UINT16', 'UINT16', 'UINT...</td>\n",
       "      <td>['Transaction_ID', 'Flags', 'Questions', 'Answer_RRs', '...</td>\n",
       "    </tr>\n",
       "  </tbody>\n",
       "</table>\n",
       "</div>"
      ],
      "text/plain": [
       "                Format ID  \\\n",
       "1113  6544811979207269488   \n",
       "1235  6256418855881129599   \n",
       "\n",
       "                                                      Bit Lengths  \\\n",
       "1113                         [16, 16, 16, 16, 16, 16, 72, 16, 16]   \n",
       "1235  [16, 16, 16, 16, 16, 16, 72, 16, 16, 16, 16, 16, 32, 16,...   \n",
       "\n",
       "                                                         Syntaxes  \\\n",
       "1113  ['UINT16', 'UINT16', 'UINT16', 'UINT16', 'UINT16', 'UINT...   \n",
       "1235  ['UINT16', 'UINT16', 'UINT16', 'UINT16', 'UINT16', 'UINT...   \n",
       "\n",
       "                                                        Semantics  \n",
       "1113  ['Transaction_ID', 'Flags', 'Questions', 'Answer_RRs', '...  \n",
       "1235  ['Transaction_ID', 'Flags', 'Questions', 'Answer_RRs', '...  "
      ]
     },
     "execution_count": 38,
     "metadata": {},
     "output_type": "execute_result"
    }
   ],
   "source": [
    "df = pd.read_csv('Protocols/DNS/dns_formats.csv', names=['Format ID', 'Bit Lengths', 'Syntaxes', 'Semantics'])\n",
    "df[df['Format ID'].isin([6544811979207269488, 6256418855881129599])]"
   ]
  },
  {
   "cell_type": "markdown",
   "id": "e1e2aa14",
   "metadata": {},
   "source": [
    "## Process all PCAPs"
   ]
  },
  {
   "cell_type": "code",
   "execution_count": 7,
   "id": "68ac0943",
   "metadata": {
    "collapsed": true,
    "jupyter": {
     "outputs_hidden": true
    },
    "tags": []
   },
   "outputs": [
    {
     "name": "stdout",
     "output_type": "stream",
     "text": [
      "/home/ajr/apre-benchmark-database/src/APREdatabase/Protocols/PMU/ws_udp_pmu/pmu_udp.pcap\n",
      "synphasor /home/ajr/apre-benchmark-database/src/APREdatabase/Protocols/PMU/ws_udp_pmu/pmu_udp.pcap\n"
     ]
    },
    {
     "name": "stdout",
     "output_type": "stream",
     "text": [
      "writing to /home/ajr/apre-benchmark-database/src/APREdatabase/Protocols/PMU/ws_udp_pmu/pmu_udp.csv\n",
      "/home/ajr/apre-benchmark-database/src/APREdatabase/Protocols/PMU/ws_tcp_pmu/tcp_pmu.pcap\n",
      "synphasor /home/ajr/apre-benchmark-database/src/APREdatabase/Protocols/PMU/ws_tcp_pmu/tcp_pmu.pcap\n",
      "writing to /home/ajr/apre-benchmark-database/src/APREdatabase/Protocols/PMU/ws_tcp_pmu/tcp_pmu.csv\n",
      "/home/ajr/apre-benchmark-database/src/APREdatabase/Protocols/PMU/two_pmu/two_pmu.pcap\n",
      "synphasor /home/ajr/apre-benchmark-database/src/APREdatabase/Protocols/PMU/two_pmu/two_pmu.pcap\n",
      "writing to /home/ajr/apre-benchmark-database/src/APREdatabase/Protocols/PMU/two_pmu/two_pmu.csv\n",
      "/home/ajr/apre-benchmark-database/src/APREdatabase/Protocols/PMU/four_pmu/4_pmu.pcap\n",
      "synphasor /home/ajr/apre-benchmark-database/src/APREdatabase/Protocols/PMU/four_pmu/4_pmu.pcap\n",
      "writing to /home/ajr/apre-benchmark-database/src/APREdatabase/Protocols/PMU/four_pmu/4_pmu.csv\n",
      "Error with WiresharkPacket not enough values to unpack (expected at least 1, got 0)\n",
      "Error with WiresharkPacket not enough values to unpack (expected at least 1, got 0)\n",
      "Error with WiresharkPacket not enough values to unpack (expected at least 1, got 0)\n",
      "/home/ajr/apre-benchmark-database/src/APREdatabase/Protocols/SMB/smia/smb_smia.pcap\n",
      "smb /home/ajr/apre-benchmark-database/src/APREdatabase/Protocols/SMB/smia/smb_smia.pcap\n",
      "writing to /home/ajr/apre-benchmark-database/src/APREdatabase/Protocols/SMB/smia/smb_smia.csv\n",
      "/home/ajr/apre-benchmark-database/src/APREdatabase/Protocols/NBNS/pcap1/nbns.pcapng\n",
      "nbns /home/ajr/apre-benchmark-database/src/APREdatabase/Protocols/NBNS/pcap1/nbns.pcapng\n",
      "writing to /home/ajr/apre-benchmark-database/src/APREdatabase/Protocols/NBNS/pcap1/nbns.csv\n",
      "/home/ajr/apre-benchmark-database/src/APREdatabase/Protocols/NBNS/CIC-DDoS2019/nbns.pcap\n",
      "nbns /home/ajr/apre-benchmark-database/src/APREdatabase/Protocols/NBNS/CIC-DDoS2019/nbns.pcap\n",
      "writing to /home/ajr/apre-benchmark-database/src/APREdatabase/Protocols/NBNS/CIC-DDoS2019/nbns.csv\n",
      "/home/ajr/apre-benchmark-database/src/APREdatabase/Protocols/NBNS/smia/smia_nbns.pcap\n",
      "nbns /home/ajr/apre-benchmark-database/src/APREdatabase/Protocols/NBNS/smia/smia_nbns.pcap\n",
      "writing to /home/ajr/apre-benchmark-database/src/APREdatabase/Protocols/NBNS/smia/smia_nbns.csv\n",
      "/home/ajr/apre-benchmark-database/src/APREdatabase/Protocols/ETHERNET/CIC-DDoS2019/ethernet.pcap\n",
      "eth /home/ajr/apre-benchmark-database/src/APREdatabase/Protocols/ETHERNET/CIC-DDoS2019/ethernet.pcap\n",
      "writing to /home/ajr/apre-benchmark-database/src/APREdatabase/Protocols/ETHERNET/CIC-DDoS2019/ethernet.csv\n",
      "/home/ajr/apre-benchmark-database/src/APREdatabase/Protocols/DHCP/CIC-DDoS2019/dhcp.pcap\n",
      "dhcp /home/ajr/apre-benchmark-database/src/APREdatabase/Protocols/DHCP/CIC-DDoS2019/dhcp.pcap\n",
      "writing to /home/ajr/apre-benchmark-database/src/APREdatabase/Protocols/DHCP/CIC-DDoS2019/dhcp.csv\n",
      "/home/ajr/apre-benchmark-database/src/APREdatabase/Protocols/DHCP/smia/smia_dhcp.pcap\n",
      "dhcp /home/ajr/apre-benchmark-database/src/APREdatabase/Protocols/DHCP/smia/smia_dhcp.pcap\n",
      "writing to /home/ajr/apre-benchmark-database/src/APREdatabase/Protocols/DHCP/smia/smia_dhcp.csv\n",
      "/home/ajr/apre-benchmark-database/src/APREdatabase/Protocols/DHCP/netplier/dhcp_100.pcap\n",
      "dhcp /home/ajr/apre-benchmark-database/src/APREdatabase/Protocols/DHCP/netplier/dhcp_100.pcap\n",
      "writing to /home/ajr/apre-benchmark-database/src/APREdatabase/Protocols/DHCP/netplier/dhcp_100.csv\n",
      "/home/ajr/apre-benchmark-database/src/APREdatabase/Protocols/DNS/4SICS/udp_dns.pcap\n",
      "dns /home/ajr/apre-benchmark-database/src/APREdatabase/Protocols/DNS/4SICS/udp_dns.pcap\n",
      "writing to /home/ajr/apre-benchmark-database/src/APREdatabase/Protocols/DNS/4SICS/udp_dns.csv\n",
      "/home/ajr/apre-benchmark-database/src/APREdatabase/Protocols/DNS/CIC-DDoS2019/dns.pcap\n",
      "dns /home/ajr/apre-benchmark-database/src/APREdatabase/Protocols/DNS/CIC-DDoS2019/dns.pcap\n",
      "writing to /home/ajr/apre-benchmark-database/src/APREdatabase/Protocols/DNS/CIC-DDoS2019/dns.csv\n",
      "/home/ajr/apre-benchmark-database/src/APREdatabase/Protocols/DNS/smia/SMIA_2011-10-14_07_DNS_5411.pcap\n",
      "dns /home/ajr/apre-benchmark-database/src/APREdatabase/Protocols/DNS/smia/SMIA_2011-10-14_07_DNS_5411.pcap\n",
      "writing to /home/ajr/apre-benchmark-database/src/APREdatabase/Protocols/DNS/smia/SMIA_2011-10-14_07_DNS_5411.csv\n",
      "/home/ajr/apre-benchmark-database/src/APREdatabase/Protocols/EAPOL/ws_sample/eapol-mka.pcap\n",
      "eapol /home/ajr/apre-benchmark-database/src/APREdatabase/Protocols/EAPOL/ws_sample/eapol-mka.pcap\n",
      "writing to /home/ajr/apre-benchmark-database/src/APREdatabase/Protocols/EAPOL/ws_sample/eapol-mka.csv\n",
      "/home/ajr/apre-benchmark-database/src/APREdatabase/Protocols/S7Comm/4SICS/4sics_s7comm.pcap\n",
      "s7comm /home/ajr/apre-benchmark-database/src/APREdatabase/Protocols/S7Comm/4SICS/4sics_s7comm.pcap\n",
      "writing to /home/ajr/apre-benchmark-database/src/APREdatabase/Protocols/S7Comm/4SICS/4sics_s7comm.csv\n",
      "/home/ajr/apre-benchmark-database/src/APREdatabase/Protocols/S7Comm/ws_sample/s7comm.pcap\n",
      "s7comm /home/ajr/apre-benchmark-database/src/APREdatabase/Protocols/S7Comm/ws_sample/s7comm.pcap\n",
      "writing to /home/ajr/apre-benchmark-database/src/APREdatabase/Protocols/S7Comm/ws_sample/s7comm.csv\n",
      "Error with WiresharkPacket not enough values to unpack (expected at least 1, got 0)\n",
      "Error with WiresharkPacket not enough values to unpack (expected at least 1, got 0)\n",
      "Error with WiresharkPacket not enough values to unpack (expected at least 1, got 0)\n",
      "Error with WiresharkPacket self.layer_name='s7comm', self.raw_hex='320700000500000c0016000112081284010102000000ff09001204b505b506b507b508b501b602b603b604b6', self.pkt_len=44, len(self.pkt_fields)=28, self.pkt_fields=[s7comm.header.protid_raw-8-UINT8-Protocol_Id, s7comm.header.rosctr_raw-8-UINT8-ROSCTR, s7comm.header.redid_raw-16-UINT16-Redundancy_Identification_Reserved, s7comm.header.pduref_raw-16-UINT16-Protocol_Data_Unit_Reference, s7comm.header.parlg_raw-16-UINT16-Parameter_length, s7comm.header.datlg_raw-16-UINT16-Data_length, s7comm.param.userdata.head_raw-24-UINT24-Parameter_head, s7comm.param.userdata.length_raw-8-UINT8-Parameter_length, s7comm.param.userdata.reqres1_raw-8-UINT8-Method_Request/Response, s7comm.param.userdata.type_raw-8-UINT8-Type, s7comm.param.userdata.subfunc_raw-8-UINT8-Subfunction, s7comm.param.userdata.seq_num_raw-8-UINT8-Sequence_number, s7comm.param.userdata.dataunitref_raw-8-UINT8-Data_unit_reference_number, s7comm.param.userdata.lastdataunit_raw-8-UINT8-Last_data_unit, s7comm.param.errcod_raw-16-UINT16-Error_code, s7comm.data.returncode_raw-8-UINT8-Return_code, s7comm.data.transportsize_raw-8-UINT8-Transport_size, s7comm.data.length_raw-16-UINT16-Length, 1ByteUnknownField, s7comm.szl.0000.0000.szl_id_raw-16-UINT16-SZL_ID_that_exists, s7comm.szl.0000.0000.szl_id_raw-16-UINT16-SZL_ID_that_exists, s7comm.szl.0000.0000.szl_id_raw-16-UINT16-SZL_ID_that_exists, s7comm.szl.0000.0000.szl_id_raw-16-UINT16-SZL_ID_that_exists, s7comm.szl.0000.0000.szl_id_raw-16-UINT16-SZL_ID_that_exists, s7comm.szl.0000.0000.szl_id_raw-16-UINT16-SZL_ID_that_exists, s7comm.szl.0000.0000.szl_id_raw-16-UINT16-SZL_ID_that_exists, s7comm.szl.0000.0000.szl_id_raw-16-UINT16-SZL_ID_that_exists, s7comm.szl.0000.0000.szl_id_raw-16-UINT16-SZL_ID_that_exists], self.byte_lengths=[1, 1, 2, 2, 2, 2, 3, 1, 1, 1, 1, 1, 1, 1, 2, 1, 1, 2, 1, 2, 2, 2, 2, 2, 2, 2, 2, 2], ['UINT8', 'UINT8', 'UINT16', 'UINT16', 'UINT16', 'UINT16', 'UINT24', 'UINT8', 'UINT8', 'UINT8', 'UINT8', 'UINT8', 'UINT8', 'UINT8', 'UINT16', 'UINT8', 'UINT8', 'UINT16', 'UNKNOWN', 'UINT16', 'UINT16', 'UINT16', 'UINT16', 'UINT16', 'UINT16', 'UINT16', 'UINT16', 'UINT16'], ['Protocol_Id', 'ROSCTR', 'Redundancy_Identification_Reserved', 'Protocol_Data_Unit_Reference', 'Parameter_length', 'Data_length', 'Parameter_head', 'Parameter_length', 'Method_Request/Response', 'Type', 'Subfunction', 'Sequence_number', 'Data_unit_reference_number', 'Last_data_unit', 'Error_code', 'Return_code', 'Transport_size', 'Length', 'UNKNOWN', 'SZL_ID_that_exists', 'SZL_ID_that_exists', 'SZL_ID_that_exists', 'SZL_ID_that_exists', 'SZL_ID_that_exists', 'SZL_ID_that_exists', 'SZL_ID_that_exists', 'SZL_ID_that_exists', 'SZL_ID_that_exists']\n",
      "Error with WiresharkPacket not enough values to unpack (expected at least 1, got 0)\n",
      "Error with WiresharkPacket not enough values to unpack (expected at least 1, got 0)\n",
      "Error with WiresharkPacket not enough values to unpack (expected at least 1, got 0)\n",
      "Error with WiresharkPacket not enough values to unpack (expected at least 1, got 0)\n",
      "Error with WiresharkPacket not enough values to unpack (expected at least 1, got 0)\n",
      "Error with WiresharkPacket not enough values to unpack (expected at least 1, got 0)\n",
      "Error with WiresharkPacket not enough values to unpack (expected at least 1, got 0)\n",
      "Error with WiresharkPacket not enough values to unpack (expected at least 1, got 0)\n",
      "Error with WiresharkPacket not enough values to unpack (expected at least 1, got 0)\n",
      "/home/ajr/apre-benchmark-database/src/APREdatabase/Protocols/TCP/smia/smia_tcp.pcap\n",
      "tcp /home/ajr/apre-benchmark-database/src/APREdatabase/Protocols/TCP/smia/smia_tcp.pcap\n",
      "writing to /home/ajr/apre-benchmark-database/src/APREdatabase/Protocols/TCP/smia/smia_tcp.csv\n",
      "/home/ajr/apre-benchmark-database/src/APREdatabase/Protocols/USB/pcap1/data.pcap\n",
      "usb /home/ajr/apre-benchmark-database/src/APREdatabase/Protocols/USB/pcap1/data.pcap\n",
      "writing to /home/ajr/apre-benchmark-database/src/APREdatabase/Protocols/USB/pcap1/data.csv\n",
      "/home/ajr/apre-benchmark-database/src/APREdatabase/Protocols/TFTP/netplier/tftp_100.pcap\n"
     ]
    },
    {
     "ename": "KeyError",
     "evalue": "'TFTP'",
     "output_type": "error",
     "traceback": [
      "\u001b[0;31m---------------------------------------------------------------------------\u001b[0m",
      "\u001b[0;31mKeyError\u001b[0m                                  Traceback (most recent call last)",
      "Cell \u001b[0;32mIn[7], line 5\u001b[0m\n\u001b[1;32m      3\u001b[0m \u001b[38;5;28mprint\u001b[39m(pcap)\n\u001b[1;32m      4\u001b[0m protocol \u001b[38;5;241m=\u001b[39m pcap\u001b[38;5;241m.\u001b[39msplit(\u001b[38;5;124m'\u001b[39m\u001b[38;5;124m/\u001b[39m\u001b[38;5;124m'\u001b[39m)[\u001b[38;5;241m-\u001b[39m\u001b[38;5;241m3\u001b[39m]\n\u001b[0;32m----> 5\u001b[0m ws_protocol \u001b[38;5;241m=\u001b[39m \u001b[43mProtocolsDict\u001b[49m\u001b[43m[\u001b[49m\u001b[43mprotocol\u001b[49m\u001b[43m]\u001b[49m\n\u001b[1;32m      6\u001b[0m \u001b[38;5;28mprint\u001b[39m(ws_protocol, pcap)\n\u001b[1;32m      7\u001b[0m ParseFileWithTShark(pcap, ws_protocol)\u001b[38;5;241m.\u001b[39mrun_and_save()\n",
      "\u001b[0;31mKeyError\u001b[0m: 'TFTP'"
     ]
    }
   ],
   "source": [
    "pcapfiles = find_pcap_files('Protocols')\n",
    "for pcap in pcapfiles:\n",
    "    print(pcap)\n",
    "    protocol = pcap.split('/')[-3]\n",
    "    ws_protocol = ProtocolsDict[protocol]\n",
    "    print(ws_protocol, pcap)\n",
    "    ParseFileWithTShark(pcap, ws_protocol).run_and_save()"
   ]
  },
  {
   "cell_type": "markdown",
   "id": "d1e1ca8c",
   "metadata": {},
   "source": [
    "## Process Single PCAPs"
   ]
  },
  {
   "cell_type": "code",
   "execution_count": null,
   "id": "5228a35d",
   "metadata": {},
   "outputs": [],
   "source": [
    "pcapfile = 'Protocols/LIFX/one_day/one_day.pcapng'\n",
    "layer_name = 'lifx'\n",
    "c = ParseFileWithTShark(pcapfile, layer_name, lua='LuaPlugins/lifx.lua')#, t_args='-c 1')\n",
    "c.run_and_save()"
   ]
  },
  {
   "cell_type": "code",
   "execution_count": null,
   "id": "f2b63b3c-3f94-46be-9601-090b983b235a",
   "metadata": {
    "tags": []
   },
   "outputs": [],
   "source": [
    "pcapfile = 'Protocols/TCP/smia/smia_tcp.pcap'\n",
    "layer_name = 'tcp'\n",
    "c = ParseFileWithTShark(pcapfile, layer_name)#, lua='LuaPlugins/ump.lua')#, t_args='-c 2')\n",
    "c.run_and_save()"
   ]
  },
  {
   "cell_type": "code",
   "execution_count": null,
   "id": "dfabc26d",
   "metadata": {},
   "outputs": [],
   "source": [
    "pcapfile = 'Protocols/TCP/smia//usb_data/usb_data.pcap'\n",
    "layer_name = 'ump'\n",
    "c = ParseFileWithTShark(pcapfile, layer_name, lua='LuaPlugins/ump.lua')#, t_args='-c 2')\n",
    "c.run_and_save()"
   ]
  },
  {
   "cell_type": "code",
   "execution_count": null,
   "id": "e92dce33-ef57-41ec-aed7-4f2dd6cd1442",
   "metadata": {
    "tags": []
   },
   "outputs": [],
   "source": [
    "pcapfile = 'Protocols/FTPv6/ws_sample/ftpv6_12.pcap'\n",
    "layer_name = 'ftp'\n",
    "c = ParseFileWithTShark(pcapfile, layer_name)\n",
    "c.run_and_save()"
   ]
  },
  {
   "cell_type": "code",
   "execution_count": null,
   "id": "9cb86581",
   "metadata": {},
   "outputs": [],
   "source": [
    "pcapfile = 'Protocols/ARP/pcap1/arp_1024.pcap'\n",
    "layer_name = 'arp'\n",
    "ParseFileWithTShark(pcapfile, layer_name).run_and_save()"
   ]
  },
  {
   "cell_type": "markdown",
   "id": "b77f0550",
   "metadata": {},
   "source": [
    "## Delete ALL Format Files"
   ]
  },
  {
   "cell_type": "code",
   "execution_count": null,
   "id": "135e50ee",
   "metadata": {},
   "outputs": [],
   "source": [
    "for form in fo.find_format_files('/home/ajr/apre-benchmark-database/Protocols/'):\n",
    "    print(form)\n",
    "    #os.remove(form)"
   ]
  },
  {
   "cell_type": "code",
   "execution_count": null,
   "id": "7a123382",
   "metadata": {},
   "outputs": [],
   "source": []
  }
 ],
 "metadata": {
  "kernelspec": {
   "display_name": "Python 3",
   "language": "python",
   "name": "python3"
  },
  "language_info": {
   "codemirror_mode": {
    "name": "ipython",
    "version": 3
   },
   "file_extension": ".py",
   "mimetype": "text/x-python",
   "name": "python",
   "nbconvert_exporter": "python",
   "pygments_lexer": "ipython3",
   "version": "3.8.8"
  }
 },
 "nbformat": 4,
 "nbformat_minor": 5
}
